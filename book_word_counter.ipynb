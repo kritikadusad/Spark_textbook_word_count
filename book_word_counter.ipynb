{
 "cells": [
  {
   "cell_type": "code",
   "execution_count": 142,
   "metadata": {},
   "outputs": [],
   "source": [
    "import pyspark\n"
   ]
  },
  {
   "cell_type": "code",
   "execution_count": 143,
   "metadata": {},
   "outputs": [],
   "source": [
    "from pyspark.sql import SparkSession\n",
    "from operator import add\n",
    "import pyspark.sql.functions as f"
   ]
  },
  {
   "cell_type": "code",
   "execution_count": 144,
   "metadata": {},
   "outputs": [],
   "source": [
    "spark = SparkSession.builder.appName('book').getOrCreate()"
   ]
  },
  {
   "cell_type": "code",
   "execution_count": 145,
   "metadata": {},
   "outputs": [],
   "source": [
    "df = spark.read.text(\"/home/krtika/gibran.txt\")\n"
   ]
  },
  {
   "cell_type": "code",
   "execution_count": 166,
   "metadata": {
    "scrolled": true
   },
   "outputs": [],
   "source": [
    "word_count = df.withColumn(\"word\", f.explode(f.split(f.col(\"value\"),\" \")))\\\n",
    "  .groupBy(\"word\").count()\\\n",
    "  .sort(\"count\", ascending=False)\\\n",
    "\n"
   ]
  },
  {
   "cell_type": "code",
   "execution_count": 171,
   "metadata": {},
   "outputs": [],
   "source": [
    "word_count.createOrReplaceTempView(\"word_count\")"
   ]
  },
  {
   "cell_type": "code",
   "execution_count": 173,
   "metadata": {},
   "outputs": [],
   "source": [
    "final_word_count = spark.sql(\"SELECT * FROM word_count WHERE word!=''\")"
   ]
  },
  {
   "cell_type": "code",
   "execution_count": 174,
   "metadata": {},
   "outputs": [
    {
     "name": "stdout",
     "output_type": "stream",
     "text": [
      "+-----+-----+\n",
      "| word|count|\n",
      "+-----+-----+\n",
      "|  the|  956|\n",
      "|  and|  536|\n",
      "|   of|  518|\n",
      "|  you|  434|\n",
      "|   in|  355|\n",
      "| your|  324|\n",
      "|   to|  306|\n",
      "|    a|  277|\n",
      "|   is|  259|\n",
      "|  And|  243|\n",
      "| that|  204|\n",
      "|  not|  183|\n",
      "| with|  154|\n",
      "|  are|  127|\n",
      "|*****|  114|\n",
      "|   it|  111|\n",
      "|shall|  110|\n",
      "|   he|  102|\n",
      "|  but|  100|\n",
      "|    I|   97|\n",
      "+-----+-----+\n",
      "only showing top 20 rows\n",
      "\n"
     ]
    }
   ],
   "source": [
    "final_word_count.show()"
   ]
  },
  {
   "cell_type": "code",
   "execution_count": null,
   "metadata": {},
   "outputs": [],
   "source": []
  }
 ],
 "metadata": {
  "kernelspec": {
   "display_name": "Python 3",
   "language": "python",
   "name": "python3"
  },
  "language_info": {
   "codemirror_mode": {
    "name": "ipython",
    "version": 3
   },
   "file_extension": ".py",
   "mimetype": "text/x-python",
   "name": "python",
   "nbconvert_exporter": "python",
   "pygments_lexer": "ipython3",
   "version": "3.6.7"
  }
 },
 "nbformat": 4,
 "nbformat_minor": 2
}
